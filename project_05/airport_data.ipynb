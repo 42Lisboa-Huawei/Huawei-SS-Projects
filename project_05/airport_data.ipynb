{
  "nbformat": 4,
  "nbformat_minor": 0,
  "metadata": {
    "colab": {
      "name": "Group 5 - Cábula - Airport data",
      "provenance": [],
      "collapsed_sections": []
    },
    "kernelspec": {
      "display_name": "Python 3",
      "name": "python3"
    },
    "language_info": {
      "name": "python"
    }
  },
  "cells": [
    {
      "cell_type": "markdown",
      "metadata": {
        "id": "hD1F9ZCNJSGz"
      },
      "source": [
        "#Welcome to your exercise! 👩‍💻\n",
        "\n",
        "> An ``application programming interface`` is a connection between computers or between computer programs.\n",
        "\n",
        "&nbsp;&nbsp;&nbsp;&nbsp;&nbsp;&nbsp;&nbsp;&nbsp;*From Wikipedia, the free encyclopedia*\n",
        "\n",
        "Today, you will use an API to get information about various flights ✈️ \n",
        "\n",
        "These services are all over the web, and make great tools to retrieve information for further study 🕵️‍♀️\n"
      ]
    },
    {
      "cell_type": "markdown",
      "metadata": {
        "id": "rz0PyrgZKTHM"
      },
      "source": [
        "## Preliminary step: import the necessary modules.\n",
        "\n",
        "You have seen that Python can extend its base functionality by importing libraries and modules. \n",
        "\n",
        "Here you should import\n",
        "- the ``requests`` module: it will handle the connection to the API server;\n",
        "- and ``pprint``: to make printing more beautiful! 🎨"
      ]
    },
    {
      "cell_type": "code",
      "metadata": {
        "id": "mXqikgccJ0Tg"
      },
      "source": [
        "import requests\n",
        "import pprint as p"
      ],
      "execution_count": null,
      "outputs": []
    },
    {
      "cell_type": "markdown",
      "metadata": {
        "id": "km65yR6qKEe-"
      },
      "source": [
        "## First step: check the documentation 📚\n",
        "\n",
        "Every API has its documentation. This is not too important (and is already set up for you) but its an important step nonetheless, in case you ever want to try some other API's.\n",
        "\n",
        "[Documentation](https://aviationstack.com/documentation)"
      ]
    },
    {
      "cell_type": "markdown",
      "metadata": {
        "id": "Fba8Qhi8LSEq"
      },
      "source": [
        "## Second step: configure the request 📨\n",
        "\n",
        "With the request as configured below, the last 100 flights will be retrieved, with all the information exposed on the Documentation. \n",
        "\n",
        "A status code of 200 means \"success\"! ✅"
      ]
    },
    {
      "cell_type": "code",
      "metadata": {
        "id": "8Cv1e19B6DTg"
      },
      "source": [
        "API_URL = 'http://api.aviationstack.com/v1/'\n",
        "ENDPOINT = 'flights'\n",
        "ACCESS_KEY = '1594d13df1ec1223e826f652b127569f'\n",
        "\n",
        "params = {\n",
        "    'access_key': ACCESS_KEY,\n",
        "}\n",
        "\n",
        "response = requests.get(API_URL + ENDPOINT, params)\n",
        "print(\"response:\", response.status_code)"
      ],
      "execution_count": null,
      "outputs": []
    },
    {
      "cell_type": "markdown",
      "metadata": {
        "id": "1HzA99fi7gvC"
      },
      "source": [
        "## Third step: get the information! 🕵️‍♀️\n",
        "\n",
        "The ``response`` variable can be inspected with the ``.content()`` method. Apply it to the variable!\n",
        "\n",
        "With a little tweaking, you can retrieve every single flight information - there are 100 in total! "
      ]
    },
    {
      "cell_type": "code",
      "metadata": {
        "id": "H6FNZ3ODJEik"
      },
      "source": [
        "content = response.json()\n",
        "flights = content['data']\n",
        "print(\"content =\", len(flights))\n",
        "p.pprint(flights[0])"
      ],
      "execution_count": null,
      "outputs": []
    },
    {
      "cell_type": "markdown",
      "metadata": {
        "id": "Fiq6XwOmOcC-"
      },
      "source": [
        "## First exercise: where are the flights coming from?\n",
        "\n",
        "Notice how there is an ``departure`` key in every flight element. In fact, that unlocks another dictionary - which has the ``airport`` information! \n",
        "\n",
        "Create ``get_departure_airport``, a function that retrieves the airport where planes come from. \n",
        "\n",
        "Tips:\n",
        "- every element of the ``flights`` variable is itself a dictionary. Don't be afraid to chain keys; eg. ``dictionary[\"key1\"][\"key2\"]``\n"
      ]
    },
    {
      "cell_type": "code",
      "metadata": {
        "id": "Ki2V0VxoJNuL"
      },
      "source": [
        "def get_departure_airport(flight):\n",
        "    return flight['departure']['airport']\n",
        "\n",
        "test_flight = flights[0]\n",
        "get_departure_airport(test_flight)"
      ],
      "execution_count": null,
      "outputs": []
    },
    {
      "cell_type": "markdown",
      "metadata": {
        "id": "L_Ifixx7G6qE"
      },
      "source": [
        "## Second exercise: use it to get all flights departures!\n",
        "\n",
        "With the ``get_departure_airport`` function, you can now apply it to *all* flights! Create a new function ``get_all_departure_airports``\n",
        "\n",
        "Tips:\n",
        "- use a ``for`` loop to iterate over all flights;\n",
        "- save the results in a list, and return the list.\n"
      ]
    },
    {
      "cell_type": "code",
      "metadata": {
        "id": "rv_TYxeoW_VS"
      },
      "source": [
        "def get_all_departure_airports(flights):\n",
        "    all_airports = []\n",
        "    for flight in flights:\n",
        "        all_airports.append(get_departure_airport(flight))\n",
        "    return all_airports\n",
        "\n",
        "departure_airports = get_all_departure_airports(flights)\n",
        "p.pprint(departure_airports)"
      ],
      "execution_count": null,
      "outputs": []
    },
    {
      "cell_type": "markdown",
      "metadata": {
        "id": "Cq8bSKEm-tzb"
      },
      "source": [
        "## Third exercise: make the list unique! ✨\n",
        "\n",
        "This list is still very unorganized - you can't even count how many flights landed at each airport!\n",
        "\n",
        "It would be great to have a dictionary with the airports as keys, and the count of occurences as values...\n",
        "\n",
        "Start out by creating the ``get_airports`` function, that retrieves all airports present in the list.\n",
        "\n",
        "Tips:\n",
        "- the list must have unique entries. This is easy! Iterate the ``flights`` list with a ``for`` loop: and then, if the flight airport is not yet on the list, add it - this is the ``if`` clause. \n",
        "\n"
      ]
    },
    {
      "cell_type": "code",
      "metadata": {
        "id": "tOMySqHCZZkV"
      },
      "source": [
        "def get_airports(airports_list):\n",
        "    unique_airports = []\n",
        "    for elem in airports_list:\n",
        "        if elem not in unique_airports:\n",
        "            unique_airports.append(elem)\n",
        "    return unique_airports\n",
        "\n",
        "airports_list = get_airports(departure_airports)\n",
        "p.pprint(airports_list)\n"
      ],
      "execution_count": null,
      "outputs": []
    },
    {
      "cell_type": "markdown",
      "metadata": {
        "id": "-H4CVA_OCz4E"
      },
      "source": [
        "## Fourth exercise: count the occurences! ✋\n",
        "\n",
        "Having the unique ocurrences of airports, you can now create a dictionary, with the keys being the airport name, corresponded with the times it appeared in the list. \n",
        "\n",
        "Tips:\n",
        "- you can use the ``.count()`` method! It functions as thus: suppose ``a_list = [1, 1, 2, 3, 1]``.<br> ``> a_list.count(1)``<br>``3``\n"
      ]
    },
    {
      "cell_type": "code",
      "metadata": {
        "id": "mZ7DjiIiCgoQ"
      },
      "source": [
        "def count_departures(flights):\n",
        "    flight_count = {}\n",
        "    for airport in airports_list:\n",
        "        flight_count[airport] = flights.count(airport)\n",
        "    return flight_count\n",
        "\n",
        "airport_counts = count_departures(departure_airports)\n",
        "\n",
        "# if None appears as a result, run\n",
        "if None in airport_counts:\n",
        "    del airport_counts[None]\n",
        "\n",
        "p.pprint(airport_counts)"
      ],
      "execution_count": null,
      "outputs": []
    },
    {
      "cell_type": "markdown",
      "metadata": {
        "id": "SQRHnIEbCgWh"
      },
      "source": [
        "## Further tasks... 💨\n",
        "\n",
        "With this information, it would be easy to produce a bar plot, with the x-axis being each airport, and the y-axis the number of occurences.\n",
        "\n",
        "Thre are still many things left to explore!"
      ]
    },
    {
      "cell_type": "code",
      "metadata": {
        "id": "0OGS2lfd6U4c"
      },
      "source": [
        "import matplotlib.pyplot as plt\n",
        "fig = plt.figure()\n",
        "ax = fig.add_axes([0,0,4,1])\n",
        "ax.set_xticklabels(airport_counts,rotation=90)\n",
        "ax.bar(airport_counts.keys(), airport_counts.values())\n",
        "\n",
        "\n",
        "plt.show()"
      ],
      "execution_count": null,
      "outputs": []
    }
  ]
}