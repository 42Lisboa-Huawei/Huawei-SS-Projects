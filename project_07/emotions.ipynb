{
  "nbformat": 4,
  "nbformat_minor": 0,
  "metadata": {
    "colab": {
      "name": "Group 7 - Emotions - Cábula",
      "provenance": []
    },
    "kernelspec": {
      "display_name": "Python 3",
      "name": "python3"
    },
    "language_info": {
      "name": "python"
    }
  },
  "cells": [
    {
      "cell_type": "markdown",
      "metadata": {
        "id": "hD1F9ZCNJSGz"
      },
      "source": [
        "# Welcome to your exercise! 👩‍💻\n",
        "### We will begin with some preparation for a successful project!"
      ]
    },
    {
      "cell_type": "markdown",
      "metadata": {
        "id": "MtfqbUzC2HCQ"
      },
      "source": [
        "### First step: install the [Natural Language Toolkit (NLTK)](https://www.nltk.org/index.html) package, an open source Python library for Natural Language Processing 💬 "
      ]
    },
    {
      "cell_type": "code",
      "metadata": {
        "id": "KDtwX1-V6BKY"
      },
      "source": [
        "%pip install nltk"
      ],
      "execution_count": null,
      "outputs": []
    },
    {
      "cell_type": "markdown",
      "metadata": {
        "id": "rtJRzpqQ2JVf"
      },
      "source": [
        "### Second step: import the necessary resources to the program. \n",
        "\n",
        "(this is not the focus of our exercise!)"
      ]
    },
    {
      "cell_type": "code",
      "metadata": {
        "id": "8Cv1e19B6DTg"
      },
      "source": [
        "import nltk\n",
        "import string\n",
        "from nltk.tokenize import word_tokenize\n",
        "from nltk.corpus import stopwords\n",
        "from nltk.sentiment.vader import SentimentIntensityAnalyzer\n",
        "import string\n",
        "import matplotlib.pyplot as plt\n",
        "from collections import Counter\n",
        "\n",
        "nltk.download(\"all\")"
      ],
      "execution_count": null,
      "outputs": []
    },
    {
      "cell_type": "markdown",
      "metadata": {
        "id": "lltzWYRa8hra"
      },
      "source": [
        "### These are the sample texts we will be using for the experiment. Feel free to create your own variables! 🧙‍♀️"
      ]
    },
    {
      "cell_type": "code",
      "metadata": {
        "id": "0OGS2lfd6U4c"
      },
      "source": [
        "sample_anger_text = \"I buried the unseemly urges Deep down in the ground with the roots But it's all coming up to the surface Maybe it's getting ready to bloom And I don't wanna be a monster in the making I don't wanna be more bitter than sweet I don't know how to be just standing by blankly Not getting angry 'Cause another and another coming up out of the gutter 'Til I'm drowning in an ocean of entitled motherfuckers And they're pushing all my buttons But they never seem to wonder why Another and another, ask each other Does it get your blood boiling, does it make you see red? Do you wanna destroy it, does it get in your head? 'Cause it gets my blood boiling and I'm coming unglued It would hit you like poison if you knew what I knew You would be angry too I'm seeing through crimson sunglasses I'm breathing and counting to ten I guess I'm fresh out of free passes, they'll pay if it happens again And I don't wanna drink the venom they made me I don't wanna be controlled by the past Boy if you were me, could you really blame me? Would make you crazy 'Cause another and another coming up out of the gutter 'Til I'm drowning in an ocean of entitled motherfuckers And they're pushing all my buttons But they never seem to wonder why Another and another, ask each other Does it get your blood boiling, does it make you see red? Do you wanna destroy it, does it get in your head? 'Cause it gets my blood boiling and I'm coming unglued It would hit you like poison if you knew what I knew You would be angry too Calm down girl, why you so mad? Why's your heart gone It's all good girl, why you upset? Guess they have forgotten what they did And does it get your blood boiling and does it make you see red? And do you wanna destroy it, does it get in your head? 'Cause it gets my blood boiling and I'm coming unglued It would hit you like poison if you knew what I knew You would be angry, you would be angry You would be angry, you would be angry too\"\n",
        "sample_happy_text = \"Let me tell you now Here we go It might seem crazy what I'm about to say Sunshine she's here, you can take a break I'm a hot air balloon that can go to space With the air, like I don't care baby by the way (come on) Because I'm happy Clap along if you feel like a room without a roof Because I'm happy Clap along if you feel like happiness is the truth Because I'm happy Clap along if you know what happiness is to you Because I'm happy Clap along if you feel like that's what you wanna do (hey) Here come bad news talking this and that (yeah) Well, give me all you got, and don't hold it back (yeah) Well, I should probably warn you, you'll be just fine (yeah) No offense to you, don't waste your time (Here's why) Because I'm happy Clap along if you feel like a room without a roof Because I'm happy Clap along if you feel like happiness is the truth Because I'm happy Clap along if you know what happiness is to you Because I'm happy Clap along if you feel like that's what you wanna do Here go (Happy) Bring me down Can't nothing (happy) Bring me down My level's too high (happy) To bring me down To bring me (Let me tell you now) Bring me down Can't nothing Bring me down His level's too high To bring me down To bring me down Because I'm happy Clap along if you feel like a room without a roof Because I'm happy Clap along if you feel like happiness is the truth Because I'm happy Clap along if you know what happiness is to you Because I'm happy Clap along if you feel like that's what you wanna do Because I'm happy Clap along if you feel like a room without a roof Because I'm happy Clap along if you feel like happiness is the truth Because I'm happy Clap along if you know what happiness is to you Because I'm happy Clap along if you feel like that's what you wanna do\"\n",
        "sample_happy2_text = \"When I wake up in the morning, love And the sunlight hurts my eyes And something without warning, love Bears heavy on my mind Then I look at you And the world's alright with me Just one look at you And I know it's gonna be A lovely day (lovely day, lovely day, lovely day, lovely day) (Lovely day, lovely day, lovely day, lovely day) A lovely day (lovely day, lovely day, lovely day, lovely day) (Lovely day, lovely day, lovely day, lovely day) When the day that lies ahead of me Seems impossible to face When someone else instead of me Always seems to know the way Then I look at you And the world's alright with me Just one look at you And I know it's gonna be A lovely day (lovely day, lovely day, lovely day, lovely day) (Lovely day, lovely day, lovely day, lovely day) A lovely day (lovely day, lovely day, lovely day, lovely day) (Lovely day, lovely day, lovely day, lovely day) When the day that lies ahead of me Seems impossible to face And when someone else instead of me Always seems to know the way Then I look at you And the world's alright with me Just one look at you And I know it's gonna be A lovely day (lovely day, lovely day, lovely day, lovely day) (Lovely day, lovely day, lovely day, lovely day) A lovely day (lovely day, lovely day, lovely day, lovely day) (Lovely day, lovely day, lovely day, lovely day) (Lovely day, lovely day, lovely day, lovely day) (Lovely day, lovely day, lovely day, lovely day) A lovely day (lovely day, lovely day, lovely day, lovely day) (Lovely day, lovely day, lovely day, lovely day) A lovely day (lovely day, lovely day, lovely day, lovely day) (Lovely day, lovely day, lovely day, lovely day) A lovely day (lovely day, lovely day, lovely day, lovely day) (Lovely day, lovely day, lovely day, lovely day) A lovely day (lovely day, lovely day, lovely day, lovely day) (Lovely day, lovely day, lovely day, lovely day)(Lovely day, lovely day, lovely day, lovely day) (Lovely day, lovely day, lovely day)\"\n",
        "sample_love_text = \"Saying I love you Is not the words I want to hear from you It's not that I want you Not to say, but if you only knew How easy It would be to show me how you feel More than words Is all you have to do to make it real Then you wouldn't have to say That you love me 'Cause I'd already know What would you do If my heart was torn in two More than words to show you feel That your love for me is real What would you say If I took those words away Then you couldn't make things new Just by saying I love you La di da, da di da, di dai dai da More than words La di da, da di da Now that I've tried to Talk to you and make you understand All you have to do is close your eyes And just reach out your hands And touch me Hold me close don't ever let me go More than words Is all I ever needed you to show Then you wouldn't have to say That you love me 'Cause I'd already know What would you do If my heart was torn in two More than words to show you feel That your love for me is real What would you say If I took those words away Then you couldn't make things new Just by saying I love you La di da, da di da, di dai dai da More than words La di da, da di da, di dai dai da More than words La di da, da di da, di dai dai da More than words La di da, da di da More than words More than words\"\n",
        "sample_sad_text = \"Yeah, Who am I? Someone that's afraid to let go, uh You decide, if you're ever gonna let me know, yeah Suicide, if you ever try to let go, uh I'm sad I know, yeah, I'm sad I know, yeah Who am I? Someone that's afraid to let go, uh You decide, if you're ever gonna let me know, yeah Suicide, if you ever try to let go, uh I'm sad I know, yeah, I'm sad I know, yeah Thought I gave her everything She took my heart and left me lonely I've been broken, heart's contentious I won't fix, I'd rather weep I'm lost then I'm found But it's torture bein' in love I love when you're around But I fuckin' hate when you leave Who am I? Someone that's afraid to let go, uh You decide, if you're ever gonna let me know, yeah Suicide, if you ever try to let go, uh I'm sad I know, yeah, I'm sad I know, yeah Who am I? Someone that's afraid to let go, uh You decide, if you're ever gonna let me know, yeah Suicide, if you ever try to let go, uh I'm sad I know, yeah, I'm sad I know, yeah Who am I? Someone that's afraid to let go, uh You decide, if you're ever gonna let me know, yeah Suicide, if you ever try to let go, uh I'm sad I know, yeah, I'm sad I know, yeah Who am I? Someone that's afraid to let go, uh You decide, if you're ever gonna let me know, yeah Suicide, if you ever try to let go, uh I'm sad I know, yeah, I'm sad I know, yeah\""
      ],
      "execution_count": null,
      "outputs": []
    },
    {
      "cell_type": "markdown",
      "metadata": {
        "id": "wEEYNlUB2cTV"
      },
      "source": [
        "## First exercise: build the ``create_clean_string`` function. 🧹\n",
        "\n",
        "The first step should be to clean the sample: **make it all lowercase**, and **remove the punctuation**. The result should be a list of words.\n",
        "\n",
        "First we need to create our function. It will receive a string as a parameter, and returns a new string, but without punctuation and with all lowercase.\n",
        "\n",
        "Tips: \n",
        "- create a ``result`` variable to store the new string;\n",
        "- use a ``for`` loop to iterate the old string;\n",
        "- whenever it finds an uppercase letter, add its lowercase version to ``result``;\n",
        "- whenever it finds a lowercase letter or a space, add it to ``result``;\n",
        "- you can ignore everything else.\n",
        "\n",
        "To make lowercase, the method ``.lower()`` can be used. <br>\n",
        "``> \"ABC\".lower()`` <br>\n",
        "``\"abc\"``\n",
        "\n",
        "\n"
      ]
    },
    {
      "cell_type": "code",
      "metadata": {
        "id": "9zXB4yJmAWnX"
      },
      "source": [
        "def create_clean_sentence(sentence):\n",
        "\tnew_sentence = \"\"\n",
        "\tfor char in sentence:\n",
        "\t\tif char in string.ascii_uppercase:\n",
        "\t\t\tnew_sentence = new_sentence + char.lower()\n",
        "\t\telif char in string.ascii_lowercase or char == ' ':\n",
        "\t\t\tnew_sentence = new_sentence + char\n",
        "\treturn new_sentence"
      ],
      "execution_count": null,
      "outputs": []
    },
    {
      "cell_type": "markdown",
      "metadata": {
        "id": "wFwcog-ACobU"
      },
      "source": [
        "Now, use the function you created! Declare a new variable that will hold the new sentence returned by your function!"
      ]
    },
    {
      "cell_type": "code",
      "metadata": {
        "id": "P3KnjOVLAYFa"
      },
      "source": [
        "new_sample = create_clean_sentence(sample_happy2_text)\n",
        "print(new_sample)"
      ],
      "execution_count": null,
      "outputs": []
    },
    {
      "cell_type": "markdown",
      "metadata": {
        "id": "H2s37T6mCutV"
      },
      "source": [
        "## Second exercise: Now that the sentence is clean, you need to separate the words into a list of words. 📜\n",
        "\n",
        "Does that seem dificult? 🥵\n",
        "\n",
        "Python really is your friend. Learn about the handy ``split`` method and how we can apply it to our recently declared variable!\n",
        "\n",
        "``> \"A B C\".split()``<br>\n",
        "``[\"A\", \"B\", \"C\"]`` <br>\n",
        "``> \"a.b.c\".split('.')``<br>\n",
        "``[\"a\", \"b\", \"c\"]``"
      ]
    },
    {
      "cell_type": "code",
      "metadata": {
        "id": "5t84VA0dAZxj"
      },
      "source": [
        "tokenize_words = new_sample.split()\n",
        "print(tokenize_words)"
      ],
      "execution_count": null,
      "outputs": []
    },
    {
      "cell_type": "markdown",
      "metadata": {
        "id": "Gr3jRRQ-DMRN"
      },
      "source": [
        "## Third exercise: clean the stopwords 🛑\n",
        "\n",
        "There are some words in the English language that have no use in the present statistical study. Thus, they must be removed from the sample text. \n",
        "\n",
        "Tips: \n",
        " - remember to first declare your function, ``create_important_words_list(words_list)``;\n",
        " - if one summons ``stopwords.words(\"english\")``, the result is a list of English words that are not relevant to the results. \n",
        " - thus, we only care about words that **are not in** that list.\n",
        " - use a list! ``[]``"
      ]
    },
    {
      "cell_type": "code",
      "metadata": {
        "id": "ZZPgSJe8CY7X"
      },
      "source": [
        "def create_important_words_list(words_list):\n",
        "  clean_words = []\n",
        "  for word in words_list:\n",
        "      if word not in stopwords.words(\"english\"):\n",
        "          clean_words.append(word)\n",
        "  return clean_words"
      ],
      "execution_count": null,
      "outputs": []
    },
    {
      "cell_type": "markdown",
      "metadata": {
        "id": "qBKBupaz3M75"
      },
      "source": [
        "Now you can create a new variable to hold the result of this fresh new function!"
      ]
    },
    {
      "cell_type": "code",
      "metadata": {
        "id": "sOboV93mCeY3"
      },
      "source": [
        "clean_words = create_important_words_list(tokenize_words)"
      ],
      "execution_count": null,
      "outputs": []
    },
    {
      "cell_type": "markdown",
      "metadata": {
        "id": "-_eOOP-G3Pjt"
      },
      "source": [
        "Do you want to know if that worked? Let's print this last variable!"
      ]
    },
    {
      "cell_type": "code",
      "metadata": {
        "id": "Ec0OsIsWEssh"
      },
      "source": [
        "print(clean_words)"
      ],
      "execution_count": null,
      "outputs": []
    },
    {
      "cell_type": "markdown",
      "metadata": {
        "id": "-qcaVQOiIfav"
      },
      "source": [
        "## Fourth exercise: import the emotions file ✨\n",
        "\n",
        "We are getting close! After removing the unnecessary words, it is now time to open a special variable we have prepared: ``emotions``. This file corresponds a word to an emotion. Peek into it!\n"
      ]
    },
    {
      "cell_type": "code",
      "metadata": {
        "id": "b4gTHwwm1h_6"
      },
      "source": [
        "emotions = 'victimized:cheated,accused:cheated,acquitted:singled out,adorable:loved,adored:loved,affected:attracted,afflicted:sad,aghast:fearful,agog:attracted,agonized:sad,alarmed:fearful,amused:happy,angry:angry,anguished:sad,animated:happy,annoyed:angry,anxious:attracted,apathetic:bored,appalled:angry,appeased:singled out,appreciated:esteemed,apprehensive:fearful,approved of:loved,ardent:lustful,aroused:lustful,attached:attached,attracted:attracted,autonomous:independent,awed:fearful,awkward:embarrassed,beaten down:powerless,beatific:happy,belonging:attached,bereaved:sad,betrayed:cheated,bewildered:surprise,bitter:angry,blissful:happy,blithe:happy,blocked:powerless,blue:sad,boiling:angry,bold:fearless,bored:bored,brave:fearless,bright:happy,brisk:happy,calm:safe,capable:adequate,captivated:attached,careless:powerless,categorized:singled out,cautious:fearful,certain:fearless,chagrined:belittled,challenged:attracted,chastised:hated,cheated:cheated,cheerful:happy,cheerless:sad,cheery:happy,cherished:attached,chicken:fearful,cocky:independent,codependent:codependent,coerced:cheated,comfortable:happy,common:average,competent:adequate,complacent:apathetic,composed:adequate,concerned:attracted,confident:adequate,confused:surprise,connected:attached,conned:cheated,consumed:obsessed,contented:happy,controlled:powerless,convivial:happy,cornered:entitled,courageous:fearless,cowardly:fearful,craving:attracted,crestfallen:sad,criticized:hated,cross:angry,cross-examined:singled out,crushed:sad,curious:attracted,cut off:alone,daring:fearless,dark:sad,dedicated:attracted,defeated:powerless,defenseless:fearful,degraded:belittled,dejected:sad,depressed:sad,deserted:hated,desirable:loved,despondent:sad,detached:alone,determined:focused,diminished:belittled,disappointed:demoralized,discarded:hated,disconsolate:sad,discontented:sad,discounted:belittled,discouraged:powerless,disgraced:belittled,disgusted:angry,disheartened:demoralized,disillusioned:demoralized,disjointed:derailed,dismal:sad,dismayed:fearful,disoriented:derailed,disparaged:cheated,displeased:sad,disrespected:belittled,distressed:sad,distrustful:anxious,dolorous:sad,doubtful:fearful,down:sad,downhearted:sad,dreadful:sad,dreary:sad,dubious:anxious,dull:sad,duped:cheated,eager:attracted,earnest:attracted,ecstatic:happy,elated:happy,embarrassed:embarrassed,empathetic:attached,enchanted:attracted,encouraged:adequate,engrossed:attracted,enraged:angry,enterprising:fearless,enthusiastic:happy,entrusted:loved,esteemed:esteemed,excited:happy,excluded:alone,exempt:entitled,exhausted hopeless:powerless,exhilarated:happy,exploited:cheated,exposed:fearful,fabulous:ecstatic,fainthearted:fearful,fantastic:ecstatic,fascinated:attracted,favored:entitled,fearful:fearful,fervent:attracted,fervid:attracted,festive:happy,flat:sad,focused:focused,forced:powerless,forsaken:hated,framed:cheated,free:free,free & easy:happy,frightened:fearful,frisky:happy,frustrated:angry,full of anticipation:attracted,full of ennui:apathetic,fuming:angry,funereal:sad,furious:angry,gallant:fearless,genial:happy,glad:happy,gleeful:happy,gloomy:sad,glum:sad,grief-stricken:sad,grieved:sad,guilt:sad,guilty:singled out,happy:happy,hardy:fearless,heartbroken:sad,heavyhearted:sad,hesitant:fearful,high-spirited:happy,hilarious:happy,hopeful:attracted,horny:lustful,horrified:fearful,hot and bothered:lustful,humiliated:sad,humorous:happy,hurt:sad,hysterical:fearful,ignored:hated,ill at ease:sad,immobilized:apathetic,immune:entitled,important:happy,impotent:powerless,imprisoned:entitled,in a huff:angry,in a stew:angry,in control:adequate,in fear:fearful,in pain:sad,in the dumps:sad,in the zone:focused,incensed:angry,included:attached,indecisive:anxious,independent:free,indignant:angry,infatuated:lustful,inflamed:angry,injured:sad,inquisitive:attracted,insecure:codependent,insignificant:belittled,intent:attracted,interested:attracted,interrogated:singled out,intrigued:attracted,irate:angry,irresolute:fearful,irresponsible:powerless,irritated:angry,isolated:alone,jaunty:happy,jocular:happy,jolly:happy,jovial:happy,joyful:happy,joyless:sad,joyous:happy,jubilant:happy,justified:singled out,keen:attracted,labeled:singled out,lackadaisical:bored,lazy:apathetic,left out:hated,let down:hated,lethargic:apathetic,lied to:cheated,lighthearted:happy,liked:attached,lively:happy,livid:angry,lonely:alone,lonesome:alone,lost:lost,loved:attached,low:sad,lucky:happy,lugubrious:sad,macho:independent,mad:angry,melancholy:sad,menaced:fearful,merry:happy,mirthful:happy,misgiving:fearful,misunderstood:alone,moody:sad,moping:sad,motivated:attracted,mournful:sad,needed:attracted,needy:codependent,nervous:fearful,obligated:powerless,obsessed:obsessed,offended:angry,oppressed:sad,optionless:entitled,ordinary:average,organized:adequate,out of control:powerless,out of sorts:sad,outmaneuvered:entitled,outraged:angry,overjoyed:happy,overlooked:hated,overwhelmed:powerless,panicked:fearful,passionate:lustful,passive:apathetic,pathetic:sad,peaceful:safe,pensive:anxious,perplexed:anxious,phobic:fearful,playful:happy,pleased:happy,powerless:powerless,pressured:burdened,privileged:entitled,proud:happy,provoked:angry,punished:hated,put upon:burdened,quaking:fearful,quiescent:apathetic,rageful:angry,rapturous:happy,rated:singled out,reassured:fearless,reckless:powerless,redeemed:singled out,regretful:sad,rejected:alone,released:free,remorse:sad,replaced:hated,repulsed:demoralized,resentful:angry,resolute:fearless,respected:esteemed,responsible:adequate,restful:fearful,revered:esteemed,rueful:sad,sad:sad,satisfied:happy,saucy:happy,scared:fearful,secure:fearless,self-reliant:fearless,serene:happy,shaky:fearful,shamed:sad,shocked:surprise,significant:esteemed,singled out:singled out,skeptical:anxious,snoopy:attracted,somber:sad,sparkling:happy,spirited:happy,spiritless:sad,sprightly:happy,startled:surprise,stereotyped:singled out,stifled:powerless,stout hearted:fearless,strong:independent,suffering:sad,sulky:sad,sullen:angry,sunny:happy,surprised:surprise,suspicious:anxious,sympathetic:codependent,tense:anxious,terrified:fearful,terrorized:fearful,thankful:happy,threatened:fearful,thwarted:powerless,timid:fearful,timorous:fearful,torn:derailed,tortured:sad,tragic:sad,tranquil:happy,transported:happy,trapped:entitled,tremulous:fearful,tricked:entitled,turned on:lustful,unapproved of:hated,unbelieving:anxious,uncertain:anxious,unconcerned:apathetic,understood:attached,unfocussed:lost,unlovable:hated,unloved:hated,unmotivated:apathetic,unshackled:free,unsupported:belittled,up in arms:angry,upset:fearful,validated:loved,valued:esteemed,victimized:sad,violated:cheated,virulent:angry,vivacious:happy,vulnerable:powerless,wavering:anxious,weak:powerless,welcomed:loved,woebegone:sad,woeful:sad,worn down:powerless,worn out:powerless,worried:fearful,worshiped:esteemed,wrathful:angry,wronged:singled out,wrought up:angry,yearning:lustful,yellow:fearful,zealous:attracted,abandoned:hated,absolved:singled out,absorbed:attracted,abused:powerless,accepted:loved,aching:sad,acrimonious:angry,addicted:codependent,adequate:adequate,admired:esteemed,affectionate:attached,affronted:singled out,afraid:fearful,airy:happy,alone:alone,ambivalent:bored,apathetic:apathetic,apprehensive:anxious,arrogant:independent,ashamed:embarrassed,astonished:surprise,at ease:safe,attacked:fearful,audacious:fearless,autonomous:free,average:average,avid:attracted,baffled:lost,bashful:powerless,belittled:belittled,buoyant:happy,burdened:burdened,clouded:sad,committed:focused,compassionate:attached,compelled:obsessed,dauntless:fearless,debonair:happy,deceived:entitled,delighted:ecstatic,demoralized:demoralized,derailed:derailed,desirous:attracted,despairing:sad,devastated:angry,diffident:fearful,discredited:belittled,disheartened:sad,disinclined:demoralized,disorganized:powerless,downcast:sad,entitled:entitled,excited:adequate,exultant:happy,fidgety:fearful,frowning:sad,full of misgiving:anxious,great:happy,hapless:sad,hated:hated,heroic:fearless,hostile:angry,in despair:sad,indifferent:bored,infuriated:angry,insecure:fearful,inspired:happy,inspiring:attracted,judged:singled out,justified:singled out,laughting:happy,loved:loved,loving:attached,low:sad,lustful:lustful,manipulated:cheated,mumpish:sad,nosey:attracted,numb:apathetic,obliterated:powerless,peaceful:happy,petrified:fearful,piqued:angry,piteous:sad,powerless:powerless,questioning:anxious,rejected:hated,self-satisfied:happy,set up:entitled,shut out:alone,sorrowful:sad,spirited:sad,supported:esteemed,suspicious:fearful,terrific:happy,trapped:entitled,trembling:fearful,uncomfortable:anxious,underestimated:belittled,unhappy:sad,vindicated:singled out,worked up:angry'"
      ],
      "execution_count": null,
      "outputs": []
    },
    {
      "cell_type": "markdown",
      "metadata": {
        "id": "SD4D-kICIcDI"
      },
      "source": [
        "Now, make a function that will split the emotions from the adjectives or verbs. \n",
        "\n",
        "\n",
        "Tips: \n",
        " - We will give you the beginning of the function; \n",
        " - declare a list ``[]`` that will hold the emotions found;\n",
        " - remember to use the ``split`` function...it might be very useful for processing the emotions variable!\n",
        " - loop through the emotions; if you encounter a word in the clean words variable, append it to your emotions list;\n",
        " - finally print the emotions to check the result! "
      ]
    },
    {
      "cell_type": "code",
      "metadata": {
        "id": "csbDx_hhIbQQ"
      },
      "source": [
        "def get_found_emotions():\n",
        "    found = []\n",
        "    pairs = emotions.split(',')\n",
        "    for line in pairs:\n",
        "        word, emotion = line.split(':')\n",
        "        if word in clean_words:\n",
        "            found.append(emotion)\n",
        "    return found\n",
        "\n",
        "found = get_found_emotions()\n",
        "print(found)"
      ],
      "execution_count": null,
      "outputs": []
    },
    {
      "cell_type": "markdown",
      "metadata": {
        "id": "J7XAAaw63YEV"
      },
      "source": [
        "### The sentiment analysis function is given by the documentation, so here it is for you!"
      ]
    },
    {
      "cell_type": "code",
      "metadata": {
        "id": "F1Fo6_TohMAK"
      },
      "source": [
        "def sentimentanalysis(text):\n",
        "    return SentimentIntensityAnalyzer().polarity_scores(text)"
      ],
      "execution_count": null,
      "outputs": []
    },
    {
      "cell_type": "markdown",
      "metadata": {
        "id": "Yq_eigRe3aq5"
      },
      "source": [
        "With this, you can now create a new variable that will hold all the sentiments found in the sentiment analysis after it received the sample texts as parameter. You can name it 'sentiments'."
      ]
    },
    {
      "cell_type": "code",
      "metadata": {
        "id": "8wDvcltPlz2P"
      },
      "source": [
        "sentiments=sentimentanalysis(sample_happy2_text)"
      ],
      "execution_count": null,
      "outputs": []
    },
    {
      "cell_type": "markdown",
      "metadata": {
        "id": "A_B1N1Wt4rNA"
      },
      "source": [
        "Shall we see if your variable stored the information correctly? \n",
        "\n",
        "The results are important for further usability. The [VADER algorithm](https://github.com/nltk/nltk/blob/develop/nltk/sentiment/vader.py#L421) outputs sentiment scores to 4 classes of sentiments:\n",
        "* neg: Negative\n",
        "* neu: Neutral\n",
        "* pos: Positive\n",
        "* compound: Compound (i.e. aggregated score)\n"
      ]
    },
    {
      "cell_type": "code",
      "metadata": {
        "id": "qSgBeGPkl5so"
      },
      "source": [
        "sentiments"
      ],
      "execution_count": null,
      "outputs": []
    },
    {
      "cell_type": "markdown",
      "metadata": {
        "id": "BtXOVSAt4zWg"
      },
      "source": [
        "The sentiments analysis also allows us to count the emotions found in the sample text. This means it will count how many times one of the words in the 'emotions.txt' was found in the sample text. \n",
        "\n",
        "For example, some texts may not present any words in the 'emotions.txt', but the analysis can still be done. \n",
        "* Do you want to see this happening? Try the process with sample_happy2_text!"
      ]
    },
    {
      "cell_type": "code",
      "metadata": {
        "id": "ISJpnH4rl6Tp"
      },
      "source": [
        "emotions_counter=Counter(emotions)"
      ],
      "execution_count": null,
      "outputs": []
    },
    {
      "cell_type": "markdown",
      "metadata": {
        "id": "fXjAtBx7-UG5"
      },
      "source": [
        "Now let's print our emotions counter and sentiments to see what kind of data we have."
      ]
    },
    {
      "cell_type": "code",
      "metadata": {
        "id": "wvzfTT2o3x9Y"
      },
      "source": [
        "print(emotions_counter)\n",
        "print(sentiments)"
      ],
      "execution_count": null,
      "outputs": []
    },
    {
      "cell_type": "markdown",
      "metadata": {
        "id": "tDSsPOVU-p_D"
      },
      "source": [
        "### We can now use [matplotlib's pyplot](https://matplotlib.org/stable/api/_as_gen/matplotlib.pyplot.html) to generate interactive plots and simple cases of programmatic plot. It improves the visualization of our results. \n",
        "\n",
        "First, we declare there will be 1 figure with only 1 axis. Then, the axis will show a bar graph, in which the labels are extracted from the emotions counter keys and the graph uses their values."
      ]
    },
    {
      "cell_type": "code",
      "metadata": {
        "id": "tdycxwwN3xxq"
      },
      "source": [
        "fig1,ax1=plt.subplots()\n",
        "ax1.bar(emotions_counter.keys(),emotions_counter.values())"
      ],
      "execution_count": null,
      "outputs": []
    },
    {
      "cell_type": "markdown",
      "metadata": {
        "id": "8xSbO71U_iT3"
      },
      "source": [
        "As for the sentiments results, we declare figure 2, another axis that will take the sentiments keys and values.\n",
        "\n",
        "The auto format method of matplotlib library is used to rotate and right align the labels."
      ]
    },
    {
      "cell_type": "code",
      "metadata": {
        "id": "ew3IzXUx33N4"
      },
      "source": [
        "fig2,ax2=plt.subplots()\n",
        "ax2.bar(sentiments.keys(),sentiments.values())\n",
        "fig2.autofmt_xdate()"
      ],
      "execution_count": null,
      "outputs": []
    },
    {
      "cell_type": "markdown",
      "metadata": {
        "id": "4KD3IG9tHkm4"
      },
      "source": [
        "### See how programming can be fun and used for multiple purposes?!\n",
        "\n",
        "### If you are interested in learning more on this subject, here are a few resources we have separated for your:\n",
        "\n",
        "* https://github.com/laugustyniak/awesome-sentiment-analysis/blob/master/README.md\n",
        "\n",
        "* https://www.includehelp.com/python/emotional-and-sentiment-analysis-with-the-help-of-python.aspx\n",
        "\n",
        "* https://stackoverflow.com/questions/40325980/how-is-the-vader-compound-polarity-score-calculated-in-python-nltk\n",
        "\n",
        "* https://realpython.com/python-nltk-sentiment-analysis/\n",
        "\n",
        "* https://github.com/nltk/nltk/tree/develop/nltk/sentiment\n",
        "\n",
        "* https://github.com/nltk/nltk/blob/develop/nltk/sentiment/vader.py#L421\n",
        "\n",
        "* https://www.nltk.org/howto/sentiment.html"
      ]
    }
  ]
}