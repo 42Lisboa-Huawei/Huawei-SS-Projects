{
  "nbformat": 4,
  "nbformat_minor": 0,
  "metadata": {
    "colab": {
      "name": "Group 2 - Weather study",
      "provenance": [],
      "collapsed_sections": []
    },
    "kernelspec": {
      "display_name": "Python 3",
      "name": "python3"
    },
    "language_info": {
      "name": "python"
    }
  },
  "cells": [
    {
      "cell_type": "markdown",
      "metadata": {
        "id": "hD1F9ZCNJSGz"
      },
      "source": [
        "# Welcome to your exercise! 👩‍💻\n",
        "### Learning how to parse, sort data and compare the Weather of different countries.\n",
        "\n",
        "> You will get the **Weather History** of [\"Lisboa\", \"Wien\", \"София\", \"Λευκωσία\", \"Vilnius\"] from *1st January of 2021* to *19th August of 2021*.\n",
        "The **Weather History** data-frame has several columns with information on Temperature, Heat Index, Snow, Precipitation, Highest Temperature, Lowest Temperature, and so on...\n",
        "You will parse the data from it, store it in variables and dictionaries and in the end sort it accordingly."
      ]
    },
    {
      "cell_type": "markdown",
      "metadata": {
        "id": "YFiKs4tStqzJ"
      },
      "source": [
        "###Preliminary Step: Setting your environment.\n",
        "We already have a .csv (Comma-Separated Values) file with the **Weather History** of Lisbon, and some other important files on a repository. <br />\n",
        "We need to extract the repository first. <br />\n",
        "Click the \"Run Cell\" to clone the git repository to our environment.\n"
      ]
    },
    {
      "cell_type": "code",
      "metadata": {
        "id": "E8WngqcdJIIk"
      },
      "source": [
        "!git clone https://github.com/42Lisboa-Huawei/Huawei-SS-Projects\n",
        "%cd Huawei-SS-Projects/project_02\n",
        "%ls"
      ],
      "execution_count": null,
      "outputs": []
    },
    {
      "cell_type": "markdown",
      "metadata": {
        "id": "UN888EDx1-gL"
      },
      "source": [
        "After running the commands above, you should see five files available:\n",
        "\n",
        "*   *lisbon_weather_data.csv*\n",
        "*   *austria_dict.txt*\n",
        "*   *bulgaria_dict.txt*\n",
        "*   *chipre_dict.txt*\n",
        "*   *lituania_dict.txt*"
      ]
    },
    {
      "cell_type": "markdown",
      "metadata": {
        "id": "zda0QTRH3ZwN"
      },
      "source": [
        "#First Step: Importing the Weather History.\n",
        "We will be using an external library called **pandas**. You need to import the library! 🐼\n"
      ]
    },
    {
      "cell_type": "code",
      "metadata": {
        "id": "JJaYuZDS6pHw"
      },
      "source": [
        "import pandas as panda"
      ],
      "execution_count": null,
      "outputs": []
    },
    {
      "cell_type": "markdown",
      "metadata": {
        "id": "ZukdGBndC-JJ"
      },
      "source": [
        "Now that we've imported the library, you can save the data of ``lisbon_weather_data.csv`` on a variable called \"*lisbonWeather*\" and print it.\n",
        "\n",
        "We'll be using the `read_csv` of the library **pandas**. \n",
        "\n",
        "``panda.read_csv(variable)``."
      ]
    },
    {
      "cell_type": "code",
      "metadata": {
        "id": "KDtwX1-V6BKY"
      },
      "source": [
        "lisbonWeather = panda.read_csv('lisbon_weather_data.csv')\n",
        "print(lisbonWeather)"
      ],
      "execution_count": null,
      "outputs": []
    },
    {
      "cell_type": "markdown",
      "metadata": {
        "id": "4gUqxkzQGh41"
      },
      "source": [
        "We now have the data stored in \"*lisbonWeather*\". <br /> \n",
        "\n",
        "On a for loop, print the columns of \"*lisbonWeather*\"."
      ]
    },
    {
      "cell_type": "code",
      "metadata": {
        "id": "az8w8CW2Iw83"
      },
      "source": [
        "for col in lisbonWeather.columns:\n",
        "  print(col)"
      ],
      "execution_count": null,
      "outputs": []
    },
    {
      "cell_type": "markdown",
      "metadata": {
        "id": "iCgf2PXblEzI"
      },
      "source": [
        "\n",
        "\n",
        "# Second Step: The Temperature."
      ]
    },
    {
      "cell_type": "markdown",
      "metadata": {
        "id": "xZkzQjVBJjqA"
      },
      "source": [
        "## First exercise: convert the temperatures.\n",
        "\n",
        "Print every value of the column *Temperature*. \n",
        "\n",
        "Tips:\n",
        "- you can use a ``for`` loop!"
      ]
    },
    {
      "cell_type": "code",
      "metadata": {
        "id": "N5bVb0Iv8SlI"
      },
      "source": [
        "for elem in lisbonWeather['Temperature']:\n",
        "    print(elem)"
      ],
      "execution_count": null,
      "outputs": []
    },
    {
      "cell_type": "markdown",
      "metadata": {
        "id": "jyH7EIRWO2n2"
      },
      "source": [
        "The temperatures are expressed in **Fahrenheit**; we need it **Celsius**.\n",
        "\n",
        "Let's change that! Save every **elem** on a new list called ``lisbonTemperature``, and print the results. \n",
        "\n",
        "Tips:\n",
        "- define a function, ``f_to_c``, that converts Fahrenheit to Celsius;\n",
        "- then, define another function, ``convert_temperatures(tempList)``, that receives a list of temperatures and returns a new list.\n",
        "- `` °C = (°F - 32) / 1.8``"
      ]
    },
    {
      "cell_type": "code",
      "metadata": {
        "id": "VsGU4PytPVJw"
      },
      "source": [
        "\n",
        "tempList = lisbonWeather['Temperature']\n",
        "\n",
        "def f_to_c(elem):\n",
        "    return ((elem - 32) / 1.8)\n",
        "\n",
        "def convert_temperatures(tempList):\n",
        "    lisbonTemperature = []\n",
        "    for elem in tempList:\n",
        "        lisbonTemperature.append(f_to_c(elem))\n",
        "    return lisbonTemperature\n",
        "\n",
        "print(lisbonTemperature)"
      ],
      "execution_count": null,
      "outputs": []
    },
    {
      "cell_type": "markdown",
      "metadata": {
        "id": "s6VnH0ELJ4nk"
      },
      "source": [
        "### The numbers seem a little odd! 🤔\n",
        "\n",
        "You can use the ``round(x, y)`` function: ``x`` is the number to be rounded to ``y`` decimal places."
      ]
    },
    {
      "cell_type": "markdown",
      "metadata": {
        "id": "tL3puBgSXIOx"
      },
      "source": [
        "## Second exercise: Store the following data:\n",
        "\n",
        "*   **Highest Temperature** on a variable called \"*lisbonHottestTemp*\"\n",
        "*   **Coldest Temperature** on a variable called \"*lisbonColdestTemp*\"\n",
        "*   **Average Temperature** on a variable called \"*lisbonAverageTemp*\"\n",
        "\n",
        "Print the variables."
      ]
    },
    {
      "cell_type": "code",
      "metadata": {
        "id": "GtTDS6kxXIPC"
      },
      "source": [
        "lisbonHottestTemp = lisbonTemperature[0]\n",
        "lisbonColdestTemp = lisbonTemperature[0]\n",
        "lisbonAverageTemp = 0\n",
        "\n",
        "def hottestTemp(lisbonHottestTemp):\n",
        "  for elem in lisbonTemperature:\n",
        "    if elem > lisbonHottestTemp:\n",
        "      lisbonHottestTemp = elem;\n",
        "  return lisbonHottestTemp\n",
        "\n",
        "def coldestTemp(lisbonColdestTemp):\n",
        "  for elem in lisbonTemperature:\n",
        "    if elem < lisbonColdestTemp:\n",
        "        lisbonColdestTemp = elem\n",
        "  return lisbonColdestTemp\n",
        "\n",
        "def averageTemp(lisbonAverageTemp):\n",
        "  count = 0\n",
        "  for elem in lisbonTemperature:\n",
        "    lisbonAverageTemp += elem\n",
        "    count += 1  \n",
        "  lisbonAverageTemp = round(lisbonAverageTemp / count)\n",
        "  return lisbonAverageTemp\n",
        "\n",
        "lisbonHottestTemp = hottestTemp(lisbonHottestTemp)\n",
        "lisbonColdestTemp = coldestTemp(lisbonColdestTemp)\n",
        "lisbonAverageTemp = averageTemp(lisbonAverageTemp)\n",
        "\n",
        "print(lisbonHottestTemp)\n",
        "print(lisbonColdestTemp)\n",
        "print(lisbonAverageTemp)"
      ],
      "execution_count": null,
      "outputs": []
    },
    {
      "cell_type": "markdown",
      "metadata": {
        "id": "v1hgs4wzVWZy"
      },
      "source": [
        "#Third Step: The Precipitation."
      ]
    },
    {
      "cell_type": "markdown",
      "metadata": {
        "id": "dQG_murOcPQK"
      },
      "source": [
        "## First exercise: Store the following Precipitation.\n",
        "\n",
        "First print every value of the column *Precipitation*."
      ]
    },
    {
      "cell_type": "code",
      "metadata": {
        "id": "wHo0foQIWX46"
      },
      "source": [
        "for elem in lisbonWeather['Precipitation']:\n",
        "  print(elem)"
      ],
      "execution_count": null,
      "outputs": []
    },
    {
      "cell_type": "markdown",
      "metadata": {
        "id": "s6wxcKZaHNZp"
      },
      "source": [
        "Store the following data:\n",
        "\n",
        "*   **Rainiest Day** on a variable called \"*lisbonRainiestDay*\"\n",
        "*   **Days With Rain** on a variable called \"*lisbonDaysWithRain*\"\n",
        "*   **Days Without Rain** on a variable called \"*lisbonDaysWithoutRain*\"\n",
        "\n",
        "(Rainiest Day is the *date* it rained the most, the others are a *counter* of the days) \n",
        "\n",
        "Print the variables."
      ]
    },
    {
      "cell_type": "code",
      "metadata": {
        "id": "6jSd3LQ79Emi"
      },
      "source": [
        "lisbonRainiestDay = None\n",
        "lisbonDaysWithRain = 0\n",
        "lisbonDaysWithoutRain = 0\n",
        "\n",
        "def daysWithRain(lisbonDaysWithRain):\n",
        "  for elem in lisbonWeather['Precipitation']:\n",
        "    if elem > 0:\n",
        "      lisbonDaysWithRain += 1\n",
        "  return lisbonDaysWithRain\n",
        "\n",
        "def daysWithoutRain(lisbonDaysWithoutRain):\n",
        "  for elem in lisbonWeather['Precipitation']:\n",
        "    if elem == 0:\n",
        "      lisbonDaysWithoutRain += 1\n",
        "  return lisbonDaysWithoutRain\n",
        "\n",
        "def rainiestDay(lisbonRainiestDay):\n",
        "  lisbonHighestPrecipitation = 0\n",
        "  for elem in lisbonWeather['Precipitation']:\n",
        "    if lisbonHighestPrecipitation < elem:\n",
        "      lisbonHighestPrecipitation = elem\n",
        "  condition = lisbonWeather[\"Precipitation\"] == lisbonHighestPrecipitation\n",
        "  date = lisbonWeather[condition]\n",
        "  for elem in date[\"Date time\"]:\n",
        "    lisbonRainiestDay = elem\n",
        "  return lisbonRainiestDay\n",
        "\n",
        "lisbonRainiestDay = rainiestDay(lisbonRainiestDay)\n",
        "lisbonDaysWithoutRain = daysWithoutRain(lisbonDaysWithoutRain)\n",
        "lisbonDaysWithRain = daysWithRain(lisbonDaysWithRain)\n",
        "\n",
        "print(\"Rainiest Day =\", lisbonRainiestDay)\n",
        "print(\"Days With Rain =\", lisbonDaysWithRain)\n",
        "print(\"Days Without Rain =\", lisbonDaysWithoutRain)\n"
      ],
      "execution_count": null,
      "outputs": []
    },
    {
      "cell_type": "markdown",
      "metadata": {
        "id": "NASUW8RDdnKu"
      },
      "source": [
        "#Fourth Step: Dictionaries and Lists."
      ]
    },
    {
      "cell_type": "markdown",
      "metadata": {
        "id": "XC49cglsm3J6"
      },
      "source": [
        "## First exercise: Save the Data to a Dictionary.\n",
        "\n",
        "Save the data you gathered on a **dictionary** called \"*lisbonDict*\". <br />\n",
        "Use the following *key/value* structure:\n",
        "\n",
        "\n",
        "*   \"City\":value\n",
        "*   \"Hottest Temp\":value\n",
        "*   \"Coldest Temp\":value\n",
        "*   \"Average Temp\":value\n",
        "*   \"Rainiest Day\":value\n",
        "*   \"Days With Rain\":value\n",
        "*   \"Days Without Rain\":value\n",
        "\n",
        "Print the dictionary.\n"
      ]
    },
    {
      "cell_type": "code",
      "metadata": {
        "id": "2M2eXETgeDEo"
      },
      "source": [
        "lisbonDict = {\n",
        "    \"City\": \"Lisboa\",\n",
        "    \"Hottest Temp\": lisbonHottestTemp,\n",
        "    \"Coldest Temp\": lisbonColdestTemp,\n",
        "    \"Average Temp\": lisbonAverageTemp,\n",
        "    \"Rainiest Day\": lisbonRainiestDay,\n",
        "    \"Days With Rain\": lisbonDaysWithRain,\n",
        "    \"Days Without Rain\": lisbonDaysWithoutRain\n",
        "}\n",
        "\n",
        "for key in lisbonDict.keys():\n",
        "    print(key, \"=\", lisbonDict[key])"
      ],
      "execution_count": null,
      "outputs": []
    },
    {
      "cell_type": "markdown",
      "metadata": {
        "id": "YiiSCl_mlWqB"
      },
      "source": [
        "We now have a **dictionary** of the data we wanted from *Lisbon*."
      ]
    },
    {
      "cell_type": "markdown",
      "metadata": {
        "id": "tCBWahBPnJEx"
      },
      "source": [
        "## Second exercise: Extract Dictionary from files.\n",
        "\n",
        "On the repository we cloned we had 4 extra files:\n",
        "\n",
        "*   austria_dict.txt\n",
        "*   bulgaria_dict.txt\n",
        "*   chipre_dict.txt\n",
        "*   lituania_dict.txt\n",
        "\n",
        "These 4 files have similar structure to the following:\n",
        "\n",
        "```\n",
        "City:София\n",
        "Hottest Temp:28.1\n",
        "Coldest Temp:-8.6\n",
        "Average Temp:12\n",
        "Rainiest Day:07/16/2021\n",
        "Days With Rain:138\n",
        "Days Without Rain:93\n",
        "```\n",
        "\n",
        "You need to open each file, extract it's *key/value*, **split** it and add it to their respective **dictionaries**.\n",
        "\n",
        "\n",
        "*   \"*viennaDict*\"\n",
        "*   \"*sofiaDict*\"\n",
        "*   \"*nicosiaDict*\"\n",
        "*   \"*vilniusDict*\"\n",
        "\n",
        "Print each **dictionary**.\n"
      ]
    },
    {
      "cell_type": "code",
      "metadata": {
        "id": "GV78CjNYJkhj"
      },
      "source": [
        "viennaDict = {}\n",
        "sofiaDict = {}\n",
        "nicosiaDict = {}\n",
        "vilnusDict = {}\n",
        "\n",
        "viennaFile = open(\"austria_dict.txt\")\n",
        "sofiaFile = open(\"bulgaria_dict.txt\")\n",
        "nicosiaFile = open(\"chipre_dict.txt\")\n",
        "vilnusFile = open(\"lituania_dict.txt\")\n",
        "\n",
        "def fillDictionary(file, dict):\n",
        "  for line in file:\n",
        "    line = line.strip('\\n')\n",
        "    key, value = line.split(':')\n",
        "    dict[key] = value\n",
        "  return dict\n",
        "\n",
        "viennaDict = fillDictionary(viennaFile, viennaDict)\n",
        "sofiaDict = fillDictionary(sofiaFile, sofiaDict)\n",
        "nicosiaDict = fillDictionary(nicosiaFile, nicosiaDict)\n",
        "vilnusDict = fillDictionary(vilnusFile, vilnusDict)\n",
        "\n",
        "print(viennaDict)\n",
        "print(sofiaDict)\n",
        "print(nicosiaDict)\n",
        "print(vilnusDict)"
      ],
      "execution_count": null,
      "outputs": []
    },
    {
      "cell_type": "markdown",
      "metadata": {
        "id": "oOGCJta-NC46"
      },
      "source": [
        "## Third exercise: Join all Dictionaries on a List.\n",
        "\n",
        "Add all 5 **dictionaries** to a **list** called \"*weatherList*\".\n",
        "\n",
        "Print the **list**."
      ]
    },
    {
      "cell_type": "code",
      "metadata": {
        "id": "3x5CaW_MNaFb"
      },
      "source": [
        "weatherList = []\n",
        "\n",
        "weatherList.append(lisbonDict)\n",
        "weatherList.append(viennaDict)\n",
        "weatherList.append(sofiaDict)\n",
        "weatherList.append(nicosiaDict)\n",
        "weatherList.append(vilnusDict)\n",
        "\n",
        "for elem in weatherList:\n",
        "    print(elem)"
      ],
      "execution_count": null,
      "outputs": []
    },
    {
      "cell_type": "markdown",
      "metadata": {
        "id": "OEMrL14LU1BA"
      },
      "source": [
        "#Fifth Step: Sorting.\n",
        "\n",
        "We have all the data we want on a list now we can sort it.\n"
      ]
    },
    {
      "cell_type": "markdown",
      "metadata": {
        "id": "SkdU4UPqpCx8"
      },
      "source": [
        "## First exercise: Sort by ascending the Coldest Temp of the 5 countries.\n",
        "\n",
        "> ```sorted(list, key=lambda x: type(x['Column']))```\n"
      ]
    },
    {
      "cell_type": "code",
      "metadata": {
        "id": "EyZBO9AtU6Re"
      },
      "source": [
        "sortedList = sorted(weatherList, key=lambda x: float(x['Coldest Temp']))\n",
        "\n",
        "for elem in sortedList:\n",
        "    print(elem)\n"
      ],
      "execution_count": null,
      "outputs": []
    },
    {
      "cell_type": "markdown",
      "metadata": {
        "id": "rena_ffZ-3z0"
      },
      "source": [
        "## Second exercise: Sort by descending the Hottest Temp of the 5 **countries**.\n",
        "\n",
        "> ```sorted(list, key=lambda x: type(x['Column']), reverse=True)```"
      ]
    },
    {
      "cell_type": "code",
      "metadata": {
        "id": "EUyHot7D_AmP"
      },
      "source": [
        "sortedList = sorted(weatherList, key=lambda x: float(x['Hottest Temp']), reverse=True)\n",
        "\n",
        "for elem in sortedList:\n",
        "  print(elem)"
      ],
      "execution_count": null,
      "outputs": []
    },
    {
      "cell_type": "markdown",
      "metadata": {
        "id": "lnMCA_Ph_VRv"
      },
      "source": [
        "## Third exercise: Sort by descending the Days With Rain of the 5 countries.\n",
        "> ```sorted(list, key=lambda x: type(x['Column']), reverse=True)```"
      ]
    },
    {
      "cell_type": "code",
      "metadata": {
        "id": "KGJq0ZHZ_fQ-"
      },
      "source": [
        "sortedList = sorted(weatherList, key=lambda x: int(x['Days With Rain']), reverse=True)\n",
        "\n",
        "for elem in sortedList:\n",
        "  print(elem)"
      ],
      "execution_count": null,
      "outputs": []
    }
  ]
}