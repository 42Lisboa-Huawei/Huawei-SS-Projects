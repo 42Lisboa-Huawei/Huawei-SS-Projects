{
  "nbformat": 4,
  "nbformat_minor": 0,
  "metadata": {
    "colab": {
      "name": "Group 6 - Cábula - Hangman (but a better variation 😳)",
      "provenance": [],
      "collapsed_sections": [
        "H2s37T6mCutV",
        "Gr3jRRQ-DMRN",
        "-qcaVQOiIfav"
      ]
    },
    "kernelspec": {
      "display_name": "Python 3",
      "name": "python3"
    },
    "language_info": {
      "name": "python"
    }
  },
  "cells": [
    {
      "cell_type": "markdown",
      "metadata": {
        "id": "hD1F9ZCNJSGz"
      },
      "source": [
        "# Welcome to your exercise! 👩‍💻\n",
        "\n",
        "> Hangman is a paper and pencil guessing game for two or more players. One player thinks of a word, phrase or sentence and the other tries to guess it by suggesting letters within a certain number of guesses.\n",
        "\n",
        "&nbsp;&nbsp;&nbsp;&nbsp;&nbsp;&nbsp;&nbsp;&nbsp;*From Wikipedia, the free encyclopedia*\n",
        "\n",
        "### Today, you will code a (very ungraphical!) hangman game! 🎲\n",
        "\n"
      ]
    },
    {
      "cell_type": "markdown",
      "metadata": {
        "id": "gJ6OCN_T9NQb"
      },
      "source": [
        "## First step: define your game variables!\n",
        "\n",
        "To play Hangman, you'll need a ``lives`` variable (the number of possible tries), and a ``secret`` variable, containing the secret word. Don't you worry about secrets - define it for everyone to see, this time! 🤫\n",
        "\n",
        "And, to make things easier, you should also define ``found_letters``, which will store the correct guesses! 🎯"
      ]
    },
    {
      "cell_type": "code",
      "metadata": {
        "id": "p5fzTmO-mkNx"
      },
      "source": [
        "lives = 5\n",
        "secret = \"banana\"\n",
        "found_letters = []"
      ],
      "execution_count": null,
      "outputs": []
    },
    {
      "cell_type": "markdown",
      "metadata": {
        "id": "H2s37T6mCutV"
      },
      "source": [
        "## Second step: hide the word! 🕵️‍♀️\n",
        "\n",
        "Well, the word is not much of a secret, right now. We need to create a function, ``hide_word()``, that returns a string with the same length, but with underscores on the unguessed letters. Confusing? 🤔 try the steps:\n",
        "\n",
        "1. Create the function definition, and define the ``hidden_word`` variable to be an empty string.\n",
        "2. Iterate over the secret word with a ``for`` loop;\n",
        "3. For every letter in the secret word that has already been found, add it to the ``hidden_word`` variable;\n",
        "4. For every other letter, add an underscore.\n"
      ]
    },
    {
      "cell_type": "code",
      "metadata": {
        "id": "yebZvsVVRfze"
      },
      "source": [
        "def hide_word():\n",
        "    hidden_word = \"\"\n",
        "    for letter in secret:\n",
        "        if letter in found_letters:\n",
        "            hidden_word = hidden_word + letter\n",
        "        else:\n",
        "            hidden_word = hidden_word + '_'\n",
        "    return hidden_word"
      ],
      "execution_count": null,
      "outputs": []
    },
    {
      "cell_type": "markdown",
      "metadata": {
        "id": "4R3l9vdUd-jT"
      },
      "source": [
        "## Third step: it's time to guess! 😁\n",
        "\n",
        "Now that the word is properly hidden, you can define the ``guess_letter`` function! It will be the backbone of the gameplay 🎮\n",
        "\n",
        "\n",
        "The ``guess_letter`` function should return ``True`` or ``False``, depending on whether the letter is in the secret or not.\n",
        "\n"
      ]
    },
    {
      "cell_type": "code",
      "metadata": {
        "id": "cgqChFlge3Iv"
      },
      "source": [
        "def guess_letter(letter):\n",
        "    if letter in secret:\n",
        "        return True\n",
        "    else:\n",
        "        return False"
      ],
      "execution_count": null,
      "outputs": []
    },
    {
      "cell_type": "markdown",
      "metadata": {
        "id": "gre7wzJTqUCv"
      },
      "source": [
        "## Fourth step: endgame! 🧙‍♀️\n",
        "\n",
        "How will the algorithm know when the game has finished?\n",
        "\n",
        "Remember that are some conditions at work here: there are the **lives** - which cannot be 0 - and the **found_letters**.\n",
        "\n",
        "It is easy to check whether you still have lives...but what about the other condition? 🤔\n",
        "\n",
        "You should code the function ``is_finished()``, that checks whether the game should be over. \n",
        "\n",
        "Tips:\n",
        "- there are many ways to do this. You could come up with at least two! One involves learning about the ``len`` and ``set`` functions...\n",
        "- Python can use logical operators, like ``and`` or.. ``or``, and even logical equalities, such as ``==``. They are handy!\n"
      ]
    },
    {
      "cell_type": "code",
      "metadata": {
        "id": "Lb6pynGqrMSC"
      },
      "source": [
        "def is_finished():\n",
        "    return lives == 0 or len(set(secret)) == len(found_letters)"
      ],
      "execution_count": null,
      "outputs": []
    },
    {
      "cell_type": "markdown",
      "metadata": {
        "id": "Gr3jRRQ-DMRN"
      },
      "source": [
        "## Last step: wrap it all up! 🎁\n",
        "\n",
        "You now have the basic tools for your guessing game! \n",
        "\n",
        "Now, you should use a ``while`` loop to program the game behaviour. \n",
        "\n",
        "1. Learn about the ``input(\"message\")`` function: it prints ``message`` on the screen, and saves the input in a variable. Use it to store your inputs.\n",
        "2. You should use the ``guess_letter()``\n",
        "Remember to make use of the lives!\n",
        "\n"
      ]
    },
    {
      "cell_type": "code",
      "metadata": {
        "colab": {
          "background_save": true
        },
        "id": "ZZPgSJe8CY7X"
      },
      "source": [
        "while not is_finished():\n",
        "    print(hide_word())\n",
        "    letter = input(\"Guess the letter > \")\n",
        "    found = guess_letter(letter)\n",
        "    if found:\n",
        "        print(\"Hey! You found a letter! ✨\")\n",
        "        found_letters.append(letter)\n",
        "    else:\n",
        "        print(\"Oops...the letter is not in the word. And you lost a life! 👹\")\n",
        "        lives -= 1\n",
        "\n",
        "if lives == 0:\n",
        "    print(\"Oh, you lost. Well, let's pretend it was a bug in the code! 😗\")\n",
        "else:\n",
        "    print(\"Congratulations! That was very impressive! 🥳\")"
      ],
      "execution_count": null,
      "outputs": []
    }
  ]
}