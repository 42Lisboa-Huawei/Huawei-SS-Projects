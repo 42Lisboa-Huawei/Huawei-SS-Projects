{
 "cells": [
  {
   "cell_type": "markdown",
   "id": "1148d03d",
   "metadata": {
    "slideshow": {
     "slide_type": "slide"
    }
   },
   "source": [
    "# Welcome to the presentation! 👩‍💻"
   ]
  },
  {
   "cell_type": "markdown",
   "id": "ce3f2e1d",
   "metadata": {
    "slideshow": {
     "slide_type": "fragment"
    }
   },
   "source": [
    "My name is Alex 👋"
   ]
  },
  {
   "cell_type": "markdown",
   "id": "c4883fd8",
   "metadata": {
    "slideshow": {
     "slide_type": "fragment"
    }
   },
   "source": [
    "I have been coding for a while. 🤖"
   ]
  },
  {
   "cell_type": "markdown",
   "id": "b58a7200",
   "metadata": {
    "slideshow": {
     "slide_type": "fragment"
    }
   },
   "source": [
    "I think Python is the *coolest thing ever*. "
   ]
  },
  {
   "cell_type": "markdown",
   "id": "c639d360",
   "metadata": {
    "slideshow": {
     "slide_type": "slide"
    }
   },
   "source": [
    "### About Python "
   ]
  },
  {
   "cell_type": "markdown",
   "id": "5eb8213c",
   "metadata": {
    "slideshow": {
     "slide_type": "fragment"
    }
   },
   "source": [
    "**Designed by** Guido van Rossum, it first appeared (publicly) in February 20, 1991."
   ]
  },
  {
   "cell_type": "markdown",
   "id": "4b684d9e",
   "metadata": {
    "slideshow": {
     "slide_type": "fragment"
    }
   },
   "source": [
    "Its syntax resembles plain English. 🗣"
   ]
  },
  {
   "cell_type": "markdown",
   "id": "7d106d48",
   "metadata": {
    "slideshow": {
     "slide_type": "fragment"
    }
   },
   "source": [
    "It's highly regarded for **programming beginners**! "
   ]
  },
  {
   "cell_type": "markdown",
   "id": "73d958fc",
   "metadata": {
    "slideshow": {
     "slide_type": "fragment"
    }
   },
   "source": [
    "You might find it in **data science** and **machine learning**."
   ]
  },
  {
   "cell_type": "markdown",
   "id": "3c3fc7ab",
   "metadata": {
    "slideshow": {
     "slide_type": "subslide"
    }
   },
   "source": [
    "### Where and how to run Python "
   ]
  },
  {
   "cell_type": "markdown",
   "id": "1cf5f9a0",
   "metadata": {
    "slideshow": {
     "slide_type": "fragment"
    }
   },
   "source": [
    "Python scripts are saved as ``.py`` files. "
   ]
  },
  {
   "cell_type": "markdown",
   "id": "008bebb6",
   "metadata": {
    "slideshow": {
     "slide_type": "fragment"
    }
   },
   "source": [
    "These files can be executed in a computer shell (with Python installed), or using specialized software (Pycharm, Spyder, etc.)\n"
   ]
  },
  {
   "cell_type": "markdown",
   "id": "a1a4104a",
   "metadata": {
    "slideshow": {
     "slide_type": "fragment"
    }
   },
   "source": [
    "There are many browser environments to use: **Jupyter Notebooks**, CoCalc, SageMath, or Google Colab -- these are just a few."
   ]
  },
  {
   "cell_type": "markdown",
   "id": "06f5bc25",
   "metadata": {
    "slideshow": {
     "slide_type": "slide"
    }
   },
   "source": [
    "## So...how to make code? 🤷‍♀️"
   ]
  },
  {
   "cell_type": "markdown",
   "id": "2ed44761",
   "metadata": {
    "slideshow": {
     "slide_type": "subslide"
    }
   },
   "source": [
    "### Variables are important!"
   ]
  },
  {
   "cell_type": "markdown",
   "id": "a18b32e2",
   "metadata": {
    "slideshow": {
     "slide_type": "fragment"
    }
   },
   "source": [
    "Think of them like boxes 📦 with a user-defined name, that hold a specific (kind of) information."
   ]
  },
  {
   "cell_type": "code",
   "execution_count": null,
   "id": "97d3b88e",
   "metadata": {
    "slideshow": {
     "slide_type": "fragment"
    }
   },
   "outputs": [],
   "source": [
    "x = 42\n",
    "name = \"Python\"\n",
    "my_stuff = [\"Books\", \"the Sun\", \"Bicycle\"]\n"
   ]
  },
  {
   "cell_type": "markdown",
   "id": "ad9a1690",
   "metadata": {
    "slideshow": {
     "slide_type": "fragment"
    }
   },
   "source": [
    "And variables can have various types: ``int``, ``str``, ``list``, ``float``, ``dict``, etc."
   ]
  },
  {
   "cell_type": "code",
   "execution_count": null,
   "id": "11fde80d",
   "metadata": {
    "slideshow": {
     "slide_type": "fragment"
    }
   },
   "outputs": [],
   "source": [
    "print(type(x))\n",
    "print(type(name))\n",
    "print(type(my_stuff))"
   ]
  },
  {
   "cell_type": "markdown",
   "id": "c698392a",
   "metadata": {
    "slideshow": {
     "slide_type": "fragment"
    }
   },
   "source": [
    "Python is clever, and will assume the type of the variable as the user defines its content 🐍"
   ]
  },
  {
   "cell_type": "markdown",
   "id": "c5f60e31",
   "metadata": {
    "slideshow": {
     "slide_type": "subslide"
    }
   },
   "source": [
    "### Learn your operations! ➗"
   ]
  },
  {
   "cell_type": "markdown",
   "id": "d324f625",
   "metadata": {
    "slideshow": {
     "slide_type": "fragment"
    }
   },
   "source": [
    "Python supports a wide array of operations within its types. You can sum, subtract, divide, and many others..."
   ]
  },
  {
   "cell_type": "code",
   "execution_count": null,
   "id": "a128a3fb",
   "metadata": {
    "slideshow": {
     "slide_type": "-"
    }
   },
   "outputs": [],
   "source": [
    " 3.14 + 2.71"
   ]
  },
  {
   "cell_type": "markdown",
   "id": "b963dfe9",
   "metadata": {
    "slideshow": {
     "slide_type": "fragment"
    }
   },
   "source": [
    "...but notice how the ``+`` sign can mean something else entirely with the ``str`` type..."
   ]
  },
  {
   "cell_type": "code",
   "execution_count": null,
   "id": "59b78aa4",
   "metadata": {
    "slideshow": {
     "slide_type": "-"
    }
   },
   "outputs": [],
   "source": [
    "\"Pyt\" + \"hon\""
   ]
  },
  {
   "cell_type": "markdown",
   "id": "d5135035",
   "metadata": {
    "slideshow": {
     "slide_type": "subslide"
    }
   },
   "source": [
    "With ``int`` and ``float``, the **numbers get added**; with ``str``, **concatenation takes place**."
   ]
  },
  {
   "cell_type": "markdown",
   "id": "d1db4d9a",
   "metadata": {
    "slideshow": {
     "slide_type": "fragment"
    }
   },
   "source": [
    "And, of course, operation results can be assigned to variables..."
   ]
  },
  {
   "cell_type": "code",
   "execution_count": null,
   "id": "dc56efa5",
   "metadata": {},
   "outputs": [],
   "source": [
    "x = 21 * 2"
   ]
  },
  {
   "cell_type": "markdown",
   "id": "9f55efe2",
   "metadata": {
    "slideshow": {
     "slide_type": "fragment"
    }
   },
   "source": [
    "...and there's some nifty shortcuts available, too! 😋"
   ]
  },
  {
   "cell_type": "code",
   "execution_count": null,
   "id": "cc3b0a9b",
   "metadata": {},
   "outputs": [],
   "source": [
    "z = 16\n",
    "z /= 8\n",
    "print(z)"
   ]
  },
  {
   "cell_type": "markdown",
   "id": "cc025ed7",
   "metadata": {
    "slideshow": {
     "slide_type": "fragment"
    }
   },
   "source": [
    "Notice how ``z /= 8`` is equivalent to ``z = z / 8``. But this is not too important."
   ]
  },
  {
   "cell_type": "markdown",
   "id": "42115f90",
   "metadata": {
    "slideshow": {
     "slide_type": "subslide"
    }
   },
   "source": [
    "### But what if... 🤔\n"
   ]
  },
  {
   "cell_type": "markdown",
   "id": "83877e24",
   "metadata": {
    "slideshow": {
     "slide_type": "fragment"
    }
   },
   "source": [
    "It is important to control *when*, or *under which conditions*, any part of the code runs. "
   ]
  },
  {
   "cell_type": "markdown",
   "id": "89190e2b",
   "metadata": {
    "slideshow": {
     "slide_type": "fragment"
    }
   },
   "source": [
    "``If it is sunny outside ☀️ I go to the beach.``"
   ]
  },
  {
   "cell_type": "markdown",
   "id": "08387cde",
   "metadata": {
    "slideshow": {
     "slide_type": "fragment"
    }
   },
   "source": [
    "``Otherwise, I stay home programming. 👩‍💻``"
   ]
  },
  {
   "cell_type": "code",
   "execution_count": null,
   "id": "423699e6",
   "metadata": {
    "slideshow": {
     "slide_type": "subslide"
    }
   },
   "outputs": [],
   "source": [
    "my_money = 100\n",
    "ice_cream = 70"
   ]
  },
  {
   "cell_type": "code",
   "execution_count": null,
   "id": "ceac435c",
   "metadata": {
    "slideshow": {
     "slide_type": "fragment"
    }
   },
   "outputs": [],
   "source": [
    "if my_money >= ice_cream:\n",
    "    my_money  = my_money - ice_cream\n",
    "    print(\"I'm getting some ice-cream! Yay! 🍦\")\n",
    "else:\n",
    "    print(\"I didn't want to ruin my diet, anyway. Hmpf! 😤\")"
   ]
  },
  {
   "cell_type": "markdown",
   "id": "2a6d6f40",
   "metadata": {
    "slideshow": {
     "slide_type": "subslide"
    }
   },
   "source": [
    "### And now, control the flow! 🌊"
   ]
  },
  {
   "cell_type": "markdown",
   "id": "ab7449bd",
   "metadata": {
    "slideshow": {
     "slide_type": "fragment"
    }
   },
   "source": [
    "If there is any task to be repeated, make use of the **for** and **while** loops."
   ]
  },
  {
   "cell_type": "markdown",
   "id": "911654ec",
   "metadata": {
    "slideshow": {
     "slide_type": "fragment"
    }
   },
   "source": [
    "``for every student 👩‍💻 in my list:``<br>\n",
    "&nbsp;&nbsp;&nbsp;&nbsp;&nbsp;&nbsp;&nbsp;&nbsp;``    give the student a cookie 🍪``"
   ]
  },
  {
   "cell_type": "markdown",
   "id": "ace70c2e",
   "metadata": {
    "slideshow": {
     "slide_type": "fragment"
    }
   },
   "source": [
    "``while my money 💵 is not zero:``<br>\n",
    "&nbsp;&nbsp;&nbsp;&nbsp;&nbsp;&nbsp;&nbsp;&nbsp;``keep spending it 🤑``\n"
   ]
  },
  {
   "cell_type": "markdown",
   "id": "f8b3a395",
   "metadata": {
    "slideshow": {
     "slide_type": "subslide"
    }
   },
   "source": [
    "The ``for`` control can iterate over many types - mainly lists, and strings."
   ]
  },
  {
   "cell_type": "code",
   "execution_count": null,
   "id": "5afd6b89",
   "metadata": {
    "slideshow": {
     "slide_type": "fragment"
    }
   },
   "outputs": [],
   "source": [
    "for element in [\"🧠\", \"🍰\", \"🧶\"]:\n",
    "    print(element)"
   ]
  },
  {
   "cell_type": "code",
   "execution_count": null,
   "id": "f4c46d29",
   "metadata": {
    "slideshow": {
     "slide_type": "fragment"
    }
   },
   "outputs": [],
   "source": [
    "for letter in \"Python\":\n",
    "    print(letter)"
   ]
  },
  {
   "cell_type": "markdown",
   "id": "c91766b7",
   "metadata": {
    "slideshow": {
     "slide_type": "subslide"
    }
   },
   "source": [
    "On the other hand, the ``while`` control is used with a condition. "
   ]
  },
  {
   "cell_type": "code",
   "execution_count": null,
   "id": "57e083ae",
   "metadata": {
    "slideshow": {
     "slide_type": "fragment"
    }
   },
   "outputs": [],
   "source": [
    "my_money = 500\n",
    "ice_cream = 70\n",
    "\n",
    "while my_money >= ice_cream:\n",
    "    my_money  = my_money - ice_cream\n",
    "    print(\"I just ate ice-cream! Yay! 🍦\")\n",
    "print(f\"Oh...I think that was plenty of ice-cream! 🥴\")"
   ]
  },
  {
   "cell_type": "markdown",
   "id": "afcaeb10",
   "metadata": {
    "slideshow": {
     "slide_type": "subslide"
    }
   },
   "source": [
    "### More on lists and strings 🧶"
   ]
  },
  {
   "cell_type": "markdown",
   "id": "abfd5cfa",
   "metadata": {
    "slideshow": {
     "slide_type": "fragment"
    }
   },
   "source": [
    "With any list or string, you can access any specific element using its **index**. "
   ]
  },
  {
   "cell_type": "code",
   "execution_count": null,
   "id": "9d2c0559",
   "metadata": {
    "slideshow": {
     "slide_type": "fragment"
    }
   },
   "outputs": [],
   "source": [
    "list = ['a', 42, 56 // 8]\n",
    "print(list[0])"
   ]
  },
  {
   "cell_type": "markdown",
   "id": "877b1420",
   "metadata": {
    "slideshow": {
     "slide_type": "fragment"
    }
   },
   "source": [
    "...and for reasons we will not delve into for now 😳 indices start at **0**! Keep that in mind."
   ]
  },
  {
   "cell_type": "markdown",
   "id": "55f45e83",
   "metadata": {
    "slideshow": {
     "slide_type": "subslide"
    }
   },
   "source": [
    "This allows for another way of iterating strings or lists. With the ``len`` and the ``range`` function,"
   ]
  },
  {
   "cell_type": "code",
   "execution_count": null,
   "id": "71cc9831",
   "metadata": {
    "slideshow": {
     "slide_type": "fragment"
    }
   },
   "outputs": [],
   "source": [
    "# i stands for index\n",
    "for i in range(len(list)):\n",
    "    print(list[i])"
   ]
  },
  {
   "cell_type": "markdown",
   "id": "13c72b6d",
   "metadata": {
    "slideshow": {
     "slide_type": "subslide"
    }
   },
   "source": [
    "Let's have a very quick look at dictionaries 📖 It's a very useful data type!"
   ]
  },
  {
   "cell_type": "code",
   "execution_count": null,
   "id": "3d27515a",
   "metadata": {
    "slideshow": {
     "slide_type": "fragment"
    }
   },
   "outputs": [],
   "source": [
    "stuff = {} # this creates the dict variable\n",
    "\n",
    "stuff[\"pizzas-eaten\"] = 5 \n",
    "stuff[\"ice-creams-had\"] = 7\n",
    "\n",
    "print(stuff)"
   ]
  },
  {
   "cell_type": "markdown",
   "id": "c72a6b0f",
   "metadata": {
    "slideshow": {
     "slide_type": "subslide"
    }
   },
   "source": [
    " ### ``def we_are_almost_done():``"
   ]
  },
  {
   "cell_type": "markdown",
   "id": "1d27caab",
   "metadata": {
    "slideshow": {
     "slide_type": "fragment"
    }
   },
   "source": [
    "Of course, a good program will have **functions**: grouped blocks of code that are responsible for a specific task."
   ]
  },
  {
   "cell_type": "code",
   "execution_count": null,
   "id": "6537e34b",
   "metadata": {
    "slideshow": {
     "slide_type": "fragment"
    }
   },
   "outputs": [],
   "source": [
    "def hello_world():\n",
    "    print(\"Hello, World! 🌎\")\n",
    "    \n",
    "hello_world()"
   ]
  },
  {
   "cell_type": "markdown",
   "id": "713adf40",
   "metadata": {
    "slideshow": {
     "slide_type": "fragment"
    }
   },
   "source": [
    "Usually, a function will have a set of **parameters**, and will **return a result**."
   ]
  },
  {
   "cell_type": "code",
   "execution_count": null,
   "id": "cdfd3a9a",
   "metadata": {
    "slideshow": {
     "slide_type": "fragment"
    }
   },
   "outputs": [],
   "source": [
    "def multiply_by_two(number):\n",
    "    return number * 2\n",
    "\n",
    "x = 4\n",
    "y = multiply_by_two(x)\n",
    "\n",
    "print(y)"
   ]
  },
  {
   "cell_type": "markdown",
   "id": "e419cdbf",
   "metadata": {
    "slideshow": {
     "slide_type": "subslide"
    }
   },
   "source": [
    "Some very complex programs can be built with the use of functions. 🛠"
   ]
  },
  {
   "cell_type": "code",
   "execution_count": 3,
   "id": "418c19d6",
   "metadata": {
    "slideshow": {
     "slide_type": "fragment"
    }
   },
   "outputs": [],
   "source": [
    "def make_more_money(amount):\n",
    "    amount *= 3\n",
    "    amount = multiply_by_two(amount)\n",
    "    return amount"
   ]
  },
  {
   "cell_type": "markdown",
   "id": "b19e75b1",
   "metadata": {
    "slideshow": {
     "slide_type": "slide"
    }
   },
   "source": [
    "### And to take it further... 🧶"
   ]
  },
  {
   "cell_type": "markdown",
   "id": "3db690bd",
   "metadata": {
    "slideshow": {
     "slide_type": "fragment"
    }
   },
   "source": [
    "- With almost any programming language, files on the computer can be opened, read, and written to 🗂"
   ]
  },
  {
   "cell_type": "markdown",
   "id": "c7c8f553",
   "metadata": {
    "slideshow": {
     "slide_type": "fragment"
    }
   },
   "source": [
    "- The base functionality of the language can be extended with the use of modules! You will use some on the exercises."
   ]
  },
  {
   "cell_type": "markdown",
   "id": "9c90916b",
   "metadata": {
    "slideshow": {
     "slide_type": "fragment"
    }
   },
   "source": [
    "- Remember: programming can and *should* be fun. 🎉"
   ]
  },
  {
   "cell_type": "markdown",
   "id": "ae294c60",
   "metadata": {
    "slideshow": {
     "slide_type": "fragment"
    }
   },
   "source": [
    "**Now visit the [42Lisboa Github](https://github.com/42Lisboa-Huawei) and select your project's group!**\n",
    "\n",
    "You will open the Google Colab page. Then click in ``File`` -> ``Save a copy in Drive``. Do the project on your own copy 📝"
   ]
  }
 ],
 "metadata": {
  "celltoolbar": "Slideshow",
  "kernelspec": {
   "display_name": "Python 3 (ipykernel)",
   "language": "python",
   "name": "python3"
  },
  "language_info": {
   "codemirror_mode": {
    "name": "ipython",
    "version": 3
   },
   "file_extension": ".py",
   "mimetype": "text/x-python",
   "name": "python",
   "nbconvert_exporter": "python",
   "pygments_lexer": "ipython3",
   "version": "3.9.5"
  }
 },
 "nbformat": 4,
 "nbformat_minor": 5
}
