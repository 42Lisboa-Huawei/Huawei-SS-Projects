{
  "nbformat": 4,
  "nbformat_minor": 0,
  "metadata": {
    "colab": {
      "name": "Group 4 - Caesar's Cipher ",
      "provenance": [],
      "collapsed_sections": [
        "H2s37T6mCutV",
        "Gr3jRRQ-DMRN",
        "-qcaVQOiIfav"
      ]
    },
    "kernelspec": {
      "display_name": "Python 3",
      "name": "python3"
    },
    "language_info": {
      "name": "python"
    }
  },
  "cells": [
    {
      "cell_type": "markdown",
      "metadata": {
        "id": "hD1F9ZCNJSGz"
      },
      "source": [
        "# Welcome to your exercise! 👩‍💻\n",
        "\n",
        "> In cryptography, a **Caesar cipher**, also known as Caesar's cipher, the shift cipher, Caesar's code or Caesar shift, is one of the simplest and most widely known encryption techniques. **It is a type of substitution cipher in which each letter in the plaintext is replaced by a letter some fixed number of positions down the alphabet**. For example, with a left shift of 3, D would be replaced by A, E would become B, and so on. The method is named after Julius Caesar, who used it in his private correspondence.\n",
        "\n",
        "&nbsp;&nbsp;&nbsp;&nbsp;&nbsp;&nbsp;&nbsp;&nbsp;*From Wikipedia, the free encyclopedia*\n",
        "\n",
        "### Today, you will code the Caesar's cipher and encrypt very important information 🤫 \n",
        "\n"
      ]
    },
    {
      "cell_type": "markdown",
      "metadata": {
        "id": "ejgcVBb_nTO6"
      },
      "source": [
        "## Preliminary step: import the ``string`` module.\n",
        "\n",
        "You have seen that Python can extend its base functionality by importing libraries and modules. Here you should import the ``string`` module - it will come in handy!"
      ]
    },
    {
      "cell_type": "code",
      "metadata": {
        "id": "8Cv1e19B6DTg"
      },
      "source": [
        "import string"
      ],
      "execution_count": null,
      "outputs": []
    },
    {
      "cell_type": "markdown",
      "metadata": {
        "id": "lltzWYRa8hra"
      },
      "source": [
        "Below is the secret phrase you will be using for the experiment."
      ]
    },
    {
      "cell_type": "code",
      "metadata": {
        "id": "0OGS2lfd6U4c"
      },
      "source": [
        "very_important_secret = \"I really like cakes and I have the best recipe with me. I will tell you all about it - just let me finish this slice!\""
      ],
      "execution_count": null,
      "outputs": []
    },
    {
      "cell_type": "markdown",
      "metadata": {
        "id": "gJ6OCN_T9NQb"
      },
      "source": [
        "## First step: understand the algorithm.\n",
        "\n",
        "### Practice some examples ✍️\n",
        "\n",
        "The encription works because every letter gets shifted ``x`` positions down the alphabet. This ``x`` can be positive (shifting to the right) or negative (shifting to the left). \n",
        "\n",
        "Suppose the word ``cake``, shifted +3. \n",
        "\n",
        "```\n",
        "caesar_encript(\"cake\", 3)\n",
        "> \"fdnh\"\n",
        "```\n",
        "\n",
        "Now, who would say ``fdnh`` means something so delicious? 🍰\n",
        "\n",
        "Practice some more examples. Make sure you understand both positive and negative rotations...\n",
        "\n",
        "Tip: have you wondered what happens with the word ``candy``, having a -3 shift? 🍭\n"
      ]
    },
    {
      "cell_type": "markdown",
      "metadata": {
        "id": "H2s37T6mCutV"
      },
      "source": [
        "## Second step: use the alphabet! 🔠\n",
        "\n",
        "Since you have the ``string`` library imported, try using ``string.ascii_lowercase``.\n",
        "\n",
        "Figure out what this variable does. What is its type? Could it be useful, somehow? 🤔\n",
        "\n",
        "Tips:\n",
        "- create a new ``alphabet`` variable, and make good use of it! \n",
        "- take the length of the variable;\n",
        "- remember the square bracket notation for iterables (strings && lists);\n",
        "\n",
        "Keep practicing! \n",
        "\n"
      ]
    },
    {
      "cell_type": "code",
      "metadata": {
        "id": "yebZvsVVRfze"
      },
      "source": [
        "alphabet = string.ascii_lowercase\n",
        "\n",
        "print(alphabet[2])\n",
        "print(alphabet[0])\n",
        "print(alphabet[-1])"
      ],
      "execution_count": null,
      "outputs": []
    },
    {
      "cell_type": "markdown",
      "metadata": {
        "id": "4R3l9vdUd-jT"
      },
      "source": [
        "## Third step: learn about the ``.index()`` method! 🛠\n",
        "\n",
        "This method is fundamental to the code. Given any iterable (a string or list), the method returns its argument index on the iterable.\n",
        "\n",
        "Confused? 🤷‍♀️ Here's an example:"
      ]
    },
    {
      "cell_type": "code",
      "metadata": {
        "id": "cgqChFlge3Iv"
      },
      "source": [
        "alphabet.index('a')"
      ],
      "execution_count": null,
      "outputs": []
    },
    {
      "cell_type": "markdown",
      "metadata": {
        "id": "Ni23Z-s3e9tO"
      },
      "source": [
        "Try it out with some other letters, and think how it could be useful on the next function!"
      ]
    },
    {
      "cell_type": "code",
      "metadata": {
        "id": "e-3H6AGLhxEh"
      },
      "source": [
        "alphabet.index('z')"
      ],
      "execution_count": null,
      "outputs": []
    },
    {
      "cell_type": "markdown",
      "metadata": {
        "id": "KlFyOjl-iNOP"
      },
      "source": [
        "## Fourth step: learn about the modulo (``%``) operator! 🧮\n",
        "\n",
        "In programming, the ``%`` modulo operator is very useful! It will return the remainder of any division. This might feel a little scary. See some examples!\n",
        "\n",
        "``> 5 % 3`` <br>\n",
        "``2``\n",
        "\n",
        "``> 7 % 4`` <br>\n",
        "``3``\n",
        "\n",
        "In essence, the modulo operator will make any number correspond to a given boundary.\n",
        "\n",
        "``> 29 % 26`` <br>\n",
        "``3``"
      ]
    },
    {
      "cell_type": "markdown",
      "metadata": {
        "id": "Gr3jRRQ-DMRN"
      },
      "source": [
        "## Fourth step: create the ``get_encrypted_letter`` function.\n",
        "\n",
        "Are you all confident you can help Caesar with his cipher?\n",
        "\n",
        "On one hand, that's good! On the other...he's long gone 😗 But let's do the function anyway!\n",
        "\n",
        "Tips: \n",
        " - use the following prototype: ``get_encrypted_letter(letter, shift)``. \n",
        "This function should receive a letter and a shift (which can be positive and negative).\n",
        " - it must return the shifted letter!\n",
        " - what happens if you sum a shift to the letter 'z'?\n"
      ]
    },
    {
      "cell_type": "code",
      "metadata": {
        "id": "ZZPgSJe8CY7X"
      },
      "source": [
        "def get_encrypted_letter(letter, shift):\n",
        "    max_index = len(alphabet)\n",
        "    shifted_letter = alphabet.index(letter) + shift\n",
        "    return alphabet[shifted_letter % max_index]\n",
        "\n",
        "get_encrypted_letter('z', -2) "
      ],
      "execution_count": null,
      "outputs": []
    },
    {
      "cell_type": "markdown",
      "metadata": {
        "id": "-qcaVQOiIfav"
      },
      "source": [
        "## Final step: create the ``get_encryped_message``.\n",
        "\n",
        "It seems like we are almost done! With the ``get_encrypted_letter``, <br> \n",
        "you can now define the ``get_encrypted_message`` function, that will use it.\n",
        "\n",
        "Tips: \n",
        " - a ``for`` loop will be very useful!\n",
        " - you might want to create a ``result`` variable, and concatenate a string to it! \n",
        " - you can only apply the ``.index()`` method when you are **absolutely sure** the item belongs in the iterable; <br> if you try ``\"abc\".index('d')``, an error gets thrown - and that's bad! 🥵 use a condition!"
      ]
    },
    {
      "cell_type": "code",
      "metadata": {
        "id": "csbDx_hhIbQQ"
      },
      "source": [
        "def get_encrypted_message(string, shift):\n",
        "    result = \"\"\n",
        "    for char in string:\n",
        "        # char = char.lower()\n",
        "        if char in alphabet:\n",
        "            result = result + get_encrypted_letter(char, shift)\n",
        "        else:\n",
        "            result = result + char\n",
        "    return result"
      ],
      "execution_count": null,
      "outputs": []
    },
    {
      "cell_type": "markdown",
      "metadata": {
        "id": "X7tI_KSodNtT"
      },
      "source": [
        "Now you can finally encrypt your ``very_important_secret``!\n",
        "---\n",
        "\n"
      ]
    },
    {
      "cell_type": "code",
      "metadata": {
        "id": "F1Fo6_TohMAK"
      },
      "source": [
        "get_encrypted_message(very_important_secret, 3)"
      ],
      "execution_count": null,
      "outputs": []
    },
    {
      "cell_type": "markdown",
      "metadata": {
        "id": "nR4MRomjgUQW"
      },
      "source": [
        "## Further thoughts! 🧠\n",
        "\n",
        "- Look at the encrypted message. Does anything strike you as interesting? Maybe anything that wasn't properly encryped?... and do you understand why?\n",
        "\n",
        "- How strong do you feel this method is? Can you think of any way that would lead to a decryption?"
      ]
    }
  ]
}